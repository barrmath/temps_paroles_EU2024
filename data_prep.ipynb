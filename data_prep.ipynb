{
 "cells": [
  {
   "cell_type": "markdown",
   "metadata": {},
   "source": [
    "# Analyse des temps de paroles des élections europeenes"
   ]
  },
  {
   "cell_type": "markdown",
   "metadata": {},
   "source": [
    "Preparations des fichiers pour affichage.<br>\n",
    "<br>\n",
    "Le site de l'arcom nous fournie plusieurs fichiers à l'adresse suivante : <br>\n",
    "<a href = \"https://www.arcom.fr/actualites/elections-europeennes-2024-publication-des-releves-des-temps-de-parole\"> page arcom </a><br>\n"
   ]
  },
  {
   "cell_type": "code",
   "execution_count": 1,
   "metadata": {},
   "outputs": [],
   "source": [
    "# import des bibliotheques\n",
    "import pandas as pd\n",
    "import os\n"
   ]
  },
  {
   "cell_type": "code",
   "execution_count": 2,
   "metadata": {},
   "outputs": [],
   "source": [
    "#lister les nom des fichiers dans les données brutes\n",
    "liste_fichier =os.listdir('donnee_brut')\n"
   ]
  },
  {
   "cell_type": "code",
   "execution_count": 4,
   "metadata": {},
   "outputs": [
    {
     "name": "stdout",
     "output_type": "stream",
     "text": [
      "Europeennes-2024_Temps-parole_BFMBusiness.csv\n",
      "Europeennes-2024_Temps-parole_BFMTV.csv\n",
      "Europeennes-2024_Temps-parole_C8.csv\n",
      "Europeennes-2024_Temps-parole_Cnews.csv\n",
      "Europeennes-2024_Temps-parole_Euronews.csv\n",
      "Europeennes-2024_Temps-parole_Europe1.csv\n",
      "Europeennes-2024_Temps-parole_France2.csv\n",
      "Europeennes-2024_Temps-parole_France24.csv\n",
      "Europeennes-2024_Temps-parole_France3.csv\n",
      "Europeennes-2024_Temps-parole_France5.csv\n",
      "Europeennes-2024_Temps-parole_FranceCulture.csv\n",
      "Europeennes-2024_Temps-parole_FranceInfo.csv\n",
      "Europeennes-2024_Temps-parole_FranceInter.csv\n",
      "Europeennes-2024_Temps-parole_LCI.csv\n",
      "Europeennes-2024_Temps-parole_M6.csv\n",
      "Europeennes-2024_Temps-parole_RFI.csv\n",
      "Europeennes-2024_Temps-parole_RMC-Story.csv\n",
      "Europeennes-2024_Temps-parole_RMC.csv\n",
      "Europeennes-2024_Temps-parole_RMCDecouverte.csv\n",
      "Europeennes-2024_Temps-parole_RTL.csv\n",
      "Europeennes-2024_Temps-parole_RadioClassique.csv\n",
      "Europeennes-2024_Temps-parole_SudRadio.csv\n",
      "Europeennes-2024_Temps-parole_TF1.csv\n",
      "Europeennes-2024_Temps-parole_TMC.csv\n",
      "Europeennes-2024_Temps-parole_TV5Monde.csv\n",
      "Europeennes-2024_Temps-parole_franceinfo_.csv\n",
      ".~lock.couleurs.csv#\n"
     ]
    },
    {
     "ename": "ParserError",
     "evalue": "Passed header=3 but only 1 lines in file",
     "output_type": "error",
     "traceback": [
      "\u001b[0;31m---------------------------------------------------------------------------\u001b[0m",
      "\u001b[0;31mParserError\u001b[0m                               Traceback (most recent call last)",
      "Cell \u001b[0;32mIn[4], line 6\u001b[0m\n\u001b[1;32m      3\u001b[0m \u001b[38;5;28;01mfor\u001b[39;00m element \u001b[38;5;129;01min\u001b[39;00m liste_fichier:\n\u001b[1;32m      4\u001b[0m     \u001b[38;5;66;03m# lire le fichier \u001b[39;00m\n\u001b[1;32m      5\u001b[0m     \u001b[38;5;28mprint\u001b[39m(element)\n\u001b[0;32m----> 6\u001b[0m     tempo_df \u001b[38;5;241m=\u001b[39m \u001b[43mpd\u001b[49m\u001b[38;5;241;43m.\u001b[39;49m\u001b[43mread_csv\u001b[49m\u001b[43m(\u001b[49m\u001b[38;5;124;43m'\u001b[39;49m\u001b[38;5;124;43mdonnee_brut/\u001b[39;49m\u001b[38;5;124;43m'\u001b[39;49m\u001b[38;5;241;43m+\u001b[39;49m\u001b[43melement\u001b[49m\u001b[43m,\u001b[49m\u001b[43mencoding\u001b[49m\u001b[38;5;241;43m=\u001b[39;49m\u001b[38;5;124;43m'\u001b[39;49m\u001b[38;5;124;43mlatin\u001b[39;49m\u001b[38;5;124;43m'\u001b[39;49m\u001b[43m,\u001b[49m\u001b[43msep\u001b[49m\u001b[38;5;241;43m=\u001b[39;49m\u001b[38;5;124;43m'\u001b[39;49m\u001b[38;5;124;43m;\u001b[39;49m\u001b[38;5;124;43m'\u001b[39;49m\u001b[43m,\u001b[49m\u001b[43mheader\u001b[49m\u001b[38;5;241;43m=\u001b[39;49m\u001b[38;5;241;43m3\u001b[39;49m\u001b[43m)\u001b[49m\n\u001b[1;32m      8\u001b[0m     \u001b[38;5;66;03m# garder les 2 derniere ligne du temps presidentiel\u001b[39;00m\n\u001b[1;32m      9\u001b[0m     df_president \u001b[38;5;241m=\u001b[39m tempo_df\u001b[38;5;241m.\u001b[39mtail(\u001b[38;5;241m2\u001b[39m)\n",
      "File \u001b[0;32m~/Projet_data/temps_paroles_EU2024/venv/lib64/python3.12/site-packages/pandas/io/parsers/readers.py:1026\u001b[0m, in \u001b[0;36mread_csv\u001b[0;34m(filepath_or_buffer, sep, delimiter, header, names, index_col, usecols, dtype, engine, converters, true_values, false_values, skipinitialspace, skiprows, skipfooter, nrows, na_values, keep_default_na, na_filter, verbose, skip_blank_lines, parse_dates, infer_datetime_format, keep_date_col, date_parser, date_format, dayfirst, cache_dates, iterator, chunksize, compression, thousands, decimal, lineterminator, quotechar, quoting, doublequote, escapechar, comment, encoding, encoding_errors, dialect, on_bad_lines, delim_whitespace, low_memory, memory_map, float_precision, storage_options, dtype_backend)\u001b[0m\n\u001b[1;32m   1013\u001b[0m kwds_defaults \u001b[38;5;241m=\u001b[39m _refine_defaults_read(\n\u001b[1;32m   1014\u001b[0m     dialect,\n\u001b[1;32m   1015\u001b[0m     delimiter,\n\u001b[0;32m   (...)\u001b[0m\n\u001b[1;32m   1022\u001b[0m     dtype_backend\u001b[38;5;241m=\u001b[39mdtype_backend,\n\u001b[1;32m   1023\u001b[0m )\n\u001b[1;32m   1024\u001b[0m kwds\u001b[38;5;241m.\u001b[39mupdate(kwds_defaults)\n\u001b[0;32m-> 1026\u001b[0m \u001b[38;5;28;01mreturn\u001b[39;00m \u001b[43m_read\u001b[49m\u001b[43m(\u001b[49m\u001b[43mfilepath_or_buffer\u001b[49m\u001b[43m,\u001b[49m\u001b[43m \u001b[49m\u001b[43mkwds\u001b[49m\u001b[43m)\u001b[49m\n",
      "File \u001b[0;32m~/Projet_data/temps_paroles_EU2024/venv/lib64/python3.12/site-packages/pandas/io/parsers/readers.py:620\u001b[0m, in \u001b[0;36m_read\u001b[0;34m(filepath_or_buffer, kwds)\u001b[0m\n\u001b[1;32m    617\u001b[0m _validate_names(kwds\u001b[38;5;241m.\u001b[39mget(\u001b[38;5;124m\"\u001b[39m\u001b[38;5;124mnames\u001b[39m\u001b[38;5;124m\"\u001b[39m, \u001b[38;5;28;01mNone\u001b[39;00m))\n\u001b[1;32m    619\u001b[0m \u001b[38;5;66;03m# Create the parser.\u001b[39;00m\n\u001b[0;32m--> 620\u001b[0m parser \u001b[38;5;241m=\u001b[39m \u001b[43mTextFileReader\u001b[49m\u001b[43m(\u001b[49m\u001b[43mfilepath_or_buffer\u001b[49m\u001b[43m,\u001b[49m\u001b[43m \u001b[49m\u001b[38;5;241;43m*\u001b[39;49m\u001b[38;5;241;43m*\u001b[39;49m\u001b[43mkwds\u001b[49m\u001b[43m)\u001b[49m\n\u001b[1;32m    622\u001b[0m \u001b[38;5;28;01mif\u001b[39;00m chunksize \u001b[38;5;129;01mor\u001b[39;00m iterator:\n\u001b[1;32m    623\u001b[0m     \u001b[38;5;28;01mreturn\u001b[39;00m parser\n",
      "File \u001b[0;32m~/Projet_data/temps_paroles_EU2024/venv/lib64/python3.12/site-packages/pandas/io/parsers/readers.py:1620\u001b[0m, in \u001b[0;36mTextFileReader.__init__\u001b[0;34m(self, f, engine, **kwds)\u001b[0m\n\u001b[1;32m   1617\u001b[0m     \u001b[38;5;28mself\u001b[39m\u001b[38;5;241m.\u001b[39moptions[\u001b[38;5;124m\"\u001b[39m\u001b[38;5;124mhas_index_names\u001b[39m\u001b[38;5;124m\"\u001b[39m] \u001b[38;5;241m=\u001b[39m kwds[\u001b[38;5;124m\"\u001b[39m\u001b[38;5;124mhas_index_names\u001b[39m\u001b[38;5;124m\"\u001b[39m]\n\u001b[1;32m   1619\u001b[0m \u001b[38;5;28mself\u001b[39m\u001b[38;5;241m.\u001b[39mhandles: IOHandles \u001b[38;5;241m|\u001b[39m \u001b[38;5;28;01mNone\u001b[39;00m \u001b[38;5;241m=\u001b[39m \u001b[38;5;28;01mNone\u001b[39;00m\n\u001b[0;32m-> 1620\u001b[0m \u001b[38;5;28mself\u001b[39m\u001b[38;5;241m.\u001b[39m_engine \u001b[38;5;241m=\u001b[39m \u001b[38;5;28;43mself\u001b[39;49m\u001b[38;5;241;43m.\u001b[39;49m\u001b[43m_make_engine\u001b[49m\u001b[43m(\u001b[49m\u001b[43mf\u001b[49m\u001b[43m,\u001b[49m\u001b[43m \u001b[49m\u001b[38;5;28;43mself\u001b[39;49m\u001b[38;5;241;43m.\u001b[39;49m\u001b[43mengine\u001b[49m\u001b[43m)\u001b[49m\n",
      "File \u001b[0;32m~/Projet_data/temps_paroles_EU2024/venv/lib64/python3.12/site-packages/pandas/io/parsers/readers.py:1898\u001b[0m, in \u001b[0;36mTextFileReader._make_engine\u001b[0;34m(self, f, engine)\u001b[0m\n\u001b[1;32m   1895\u001b[0m     \u001b[38;5;28;01mraise\u001b[39;00m \u001b[38;5;167;01mValueError\u001b[39;00m(msg)\n\u001b[1;32m   1897\u001b[0m \u001b[38;5;28;01mtry\u001b[39;00m:\n\u001b[0;32m-> 1898\u001b[0m     \u001b[38;5;28;01mreturn\u001b[39;00m \u001b[43mmapping\u001b[49m\u001b[43m[\u001b[49m\u001b[43mengine\u001b[49m\u001b[43m]\u001b[49m\u001b[43m(\u001b[49m\u001b[43mf\u001b[49m\u001b[43m,\u001b[49m\u001b[43m \u001b[49m\u001b[38;5;241;43m*\u001b[39;49m\u001b[38;5;241;43m*\u001b[39;49m\u001b[38;5;28;43mself\u001b[39;49m\u001b[38;5;241;43m.\u001b[39;49m\u001b[43moptions\u001b[49m\u001b[43m)\u001b[49m\n\u001b[1;32m   1899\u001b[0m \u001b[38;5;28;01mexcept\u001b[39;00m \u001b[38;5;167;01mException\u001b[39;00m:\n\u001b[1;32m   1900\u001b[0m     \u001b[38;5;28;01mif\u001b[39;00m \u001b[38;5;28mself\u001b[39m\u001b[38;5;241m.\u001b[39mhandles \u001b[38;5;129;01mis\u001b[39;00m \u001b[38;5;129;01mnot\u001b[39;00m \u001b[38;5;28;01mNone\u001b[39;00m:\n",
      "File \u001b[0;32m~/Projet_data/temps_paroles_EU2024/venv/lib64/python3.12/site-packages/pandas/io/parsers/c_parser_wrapper.py:93\u001b[0m, in \u001b[0;36mCParserWrapper.__init__\u001b[0;34m(self, src, **kwds)\u001b[0m\n\u001b[1;32m     90\u001b[0m \u001b[38;5;28;01mif\u001b[39;00m kwds[\u001b[38;5;124m\"\u001b[39m\u001b[38;5;124mdtype_backend\u001b[39m\u001b[38;5;124m\"\u001b[39m] \u001b[38;5;241m==\u001b[39m \u001b[38;5;124m\"\u001b[39m\u001b[38;5;124mpyarrow\u001b[39m\u001b[38;5;124m\"\u001b[39m:\n\u001b[1;32m     91\u001b[0m     \u001b[38;5;66;03m# Fail here loudly instead of in cython after reading\u001b[39;00m\n\u001b[1;32m     92\u001b[0m     import_optional_dependency(\u001b[38;5;124m\"\u001b[39m\u001b[38;5;124mpyarrow\u001b[39m\u001b[38;5;124m\"\u001b[39m)\n\u001b[0;32m---> 93\u001b[0m \u001b[38;5;28mself\u001b[39m\u001b[38;5;241m.\u001b[39m_reader \u001b[38;5;241m=\u001b[39m \u001b[43mparsers\u001b[49m\u001b[38;5;241;43m.\u001b[39;49m\u001b[43mTextReader\u001b[49m\u001b[43m(\u001b[49m\u001b[43msrc\u001b[49m\u001b[43m,\u001b[49m\u001b[43m \u001b[49m\u001b[38;5;241;43m*\u001b[39;49m\u001b[38;5;241;43m*\u001b[39;49m\u001b[43mkwds\u001b[49m\u001b[43m)\u001b[49m\n\u001b[1;32m     95\u001b[0m \u001b[38;5;28mself\u001b[39m\u001b[38;5;241m.\u001b[39munnamed_cols \u001b[38;5;241m=\u001b[39m \u001b[38;5;28mself\u001b[39m\u001b[38;5;241m.\u001b[39m_reader\u001b[38;5;241m.\u001b[39munnamed_cols\n\u001b[1;32m     97\u001b[0m \u001b[38;5;66;03m# error: Cannot determine type of 'names'\u001b[39;00m\n",
      "File \u001b[0;32mparsers.pyx:574\u001b[0m, in \u001b[0;36mpandas._libs.parsers.TextReader.__cinit__\u001b[0;34m()\u001b[0m\n",
      "File \u001b[0;32mparsers.pyx:677\u001b[0m, in \u001b[0;36mpandas._libs.parsers.TextReader._get_header\u001b[0;34m()\u001b[0m\n",
      "\u001b[0;31mParserError\u001b[0m: Passed header=3 but only 1 lines in file"
     ]
    }
   ],
   "source": [
    "# faire les trucs pour tout les fichiers :\n",
    "temps_parole_EU2024 = pd.DataFrame()\n",
    "for element in liste_fichier:\n",
    "    # lire le fichier \n",
    "    tempo_df = pd.read_csv('donnee_brut/'+element,encoding='latin',sep=';',header=3)\n",
    "    # garder les 2 derniere ligne du temps presidentiel\n",
    "    df_president = tempo_df.tail(2)\n",
    "    # supprimer les ligne du temps presidentiel\n",
    "    tempo_df = tempo_df[:-2]\n",
    "    # rajouter une ligne pour le temps presidentiel \n",
    "    tempo_df.loc[len(tempo_df)]=['temps_president',df_president.iat[1,1]]\n",
    "    # rajouter le nom de la chaine\n",
    "    tempo_df['Nom du media'] = (element[30:-4])\n",
    "    # mettre le temps total du media en colonne\n",
    "    #total = tempo_df.loc[tempo_df['Listes candidates']=='Total des temps de parole','Total période (durée)'].to_string()\n",
    "    #tempo_df['temps total'] = total[-8:]\n",
    "    tempo_df = tempo_df[tempo_df['Listes candidates']!='Total des temps de parole']\n",
    "    # concat les dataframe entre eux\n",
    "    temps_parole_EU2024 = pd.concat([temps_parole_EU2024,tempo_df])\n",
    "    "
   ]
  },
  {
   "cell_type": "code",
   "execution_count": null,
   "metadata": {},
   "outputs": [],
   "source": [
    "couleur_pol = pd.read_csv('donnee_brut/couleurs.csv',encoding='latin')"
   ]
  },
  {
   "cell_type": "markdown",
   "metadata": {},
   "source": [
    "Liste des medias contenante les fichiers :<br>\n",
    "Canal plus n'a pas fourni de temps de paroles<br>"
   ]
  },
  {
   "cell_type": "code",
   "execution_count": null,
   "metadata": {},
   "outputs": [],
   "source": [
    "print(temps_parole_EU2024['Nom du media'].unique())"
   ]
  },
  {
   "cell_type": "code",
   "execution_count": null,
   "metadata": {},
   "outputs": [],
   "source": [
    "# listez les media en fonction de leur categories\n",
    "liste_tv_gen = ['TMC', 'France2', 'France3','M6', 'RMC-Story',\n",
    "       'TF1', 'France5', 'C8', 'RMCDecouverte', 'TV5Monde',\n",
    "       ]\n",
    "\n",
    "liste_tv_info = ['LCI', 'franceinfo_',\n",
    "       'BFMTV', 'France24', 'Euronews', 'Cnews']\n",
    "\n",
    "liste_radio = ['RTL', 'RFI', 'FranceInfo', 'FranceCulture',\n",
    "       'SudRadio', 'RMC', 'Europe1', 'BFMBusiness',\n",
    "       'RadioClassique', 'FranceInter']\n",
    "\n",
    "# ajouter les categories dans le dataframe :\n",
    "temps_parole_EU2024['Type de media'] = 'inconnu'\n",
    "\n",
    "for media in liste_tv_gen: \n",
    "       temps_parole_EU2024.loc[temps_parole_EU2024['Nom du media']==media,'Type de media'] = 'TV généraliste'\n",
    "for media in liste_tv_info:\n",
    "       temps_parole_EU2024.loc[temps_parole_EU2024['Nom du media']==media,'Type de media'] = 'TV info continue' \n",
    "for media in liste_radio:\n",
    "       temps_parole_EU2024.loc[temps_parole_EU2024['Nom du media']==media,'Type de media'] = 'radio' "
   ]
  },
  {
   "cell_type": "markdown",
   "metadata": {},
   "source": [
    "Catégorisation des médias : <br>"
   ]
  },
  {
   "cell_type": "code",
   "execution_count": null,
   "metadata": {},
   "outputs": [],
   "source": [
    "temps_parole_EU2024['Type de media'].unique()"
   ]
  },
  {
   "cell_type": "code",
   "execution_count": null,
   "metadata": {},
   "outputs": [],
   "source": [
    "temps_parole_EU2024.info()"
   ]
  },
  {
   "cell_type": "code",
   "execution_count": null,
   "metadata": {},
   "outputs": [],
   "source": [
    "# voir pour changer le type de données de la periode tout convertir en seconde puis en heure\n",
    "temps_parole_EU2024['heure'] = temps_parole_EU2024['Total période (durée)'].str[:2]\n",
    "temps_parole_EU2024['minute'] = temps_parole_EU2024['Total période (durée)'].str[3:5]\n",
    "temps_parole_EU2024['seconde'] = temps_parole_EU2024['Total période (durée)'].str[-2:]\n",
    "\n",
    "temps_parole_EU2024['heure'] = temps_parole_EU2024['heure'].astype(int)\n",
    "temps_parole_EU2024['minute'] = temps_parole_EU2024['minute'].astype(int)\n",
    "temps_parole_EU2024['seconde'] = temps_parole_EU2024['seconde'].astype(int)\n",
    "\n",
    "temps_parole_EU2024['Durée en seconde'] = temps_parole_EU2024['heure']*3600 + temps_parole_EU2024['minute']*60 +temps_parole_EU2024['seconde']\n",
    "temps_parole_EU2024['Durée en minute'] = temps_parole_EU2024['Durée en seconde']/60 "
   ]
  },
  {
   "cell_type": "code",
   "execution_count": null,
   "metadata": {},
   "outputs": [],
   "source": [
    "temps_parole_EU2024.drop(columns=['heure','minute','seconde'],inplace=True)"
   ]
  },
  {
   "cell_type": "markdown",
   "metadata": {},
   "source": [
    "# Temps de parole en secondes des listes :<br>"
   ]
  },
  {
   "cell_type": "code",
   "execution_count": null,
   "metadata": {},
   "outputs": [],
   "source": [
    "temps_parole_EU2024.groupby(by='Listes candidates').agg({'Durée en seconde':'sum'}).reset_index()"
   ]
  },
  {
   "cell_type": "code",
   "execution_count": null,
   "metadata": {},
   "outputs": [],
   "source": [
    "#calcul du temps total :\n",
    "\n",
    "df_temps_total = temps_parole_EU2024.groupby(by='Nom du media').agg({'Durée en seconde':'sum'}).reset_index().rename(columns={'Durée en seconde':'Temps total'})\n",
    "\n"
   ]
  },
  {
   "cell_type": "code",
   "execution_count": null,
   "metadata": {},
   "outputs": [],
   "source": [
    "temps_parole_EU2024 = pd.merge(temps_parole_EU2024,df_temps_total,on='Nom du media')\n",
    "temps_parole_EU2024 = pd.merge(temps_parole_EU2024,couleur_pol,on='Nom du media')"
   ]
  },
  {
   "cell_type": "code",
   "execution_count": null,
   "metadata": {},
   "outputs": [],
   "source": [
    "couleur_pol"
   ]
  },
  {
   "cell_type": "code",
   "execution_count": null,
   "metadata": {},
   "outputs": [],
   "source": [
    "temps_parole_EU2024.to_csv('donnee_contruite/temps_paroles_EU2024.csv',index=False)"
   ]
  }
 ],
 "metadata": {
  "kernelspec": {
   "display_name": "Python 3 (ipykernel)",
   "language": "python",
   "name": "python3"
  },
  "language_info": {
   "codemirror_mode": {
    "name": "ipython",
    "version": 3
   },
   "file_extension": ".py",
   "mimetype": "text/x-python",
   "name": "python",
   "nbconvert_exporter": "python",
   "pygments_lexer": "ipython3",
   "version": "3.12.3"
  }
 },
 "nbformat": 4,
 "nbformat_minor": 2
}
